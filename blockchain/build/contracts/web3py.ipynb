{
 "cells": [
  {
   "cell_type": "code",
   "execution_count": 175,
   "metadata": {},
   "outputs": [],
   "source": [
    "from web3 import Web3\n",
    "import json"
   ]
  },
  {
   "cell_type": "code",
   "execution_count": 176,
   "metadata": {},
   "outputs": [],
   "source": [
    "w3 = Web3(Web3.HTTPProvider(\"http://127.0.0.1:8545\"))"
   ]
  },
  {
   "cell_type": "code",
   "execution_count": 177,
   "metadata": {},
   "outputs": [],
   "source": [
    "w3.eth.defaultAccount = w3.eth.accounts[1]"
   ]
  },
  {
   "cell_type": "code",
   "execution_count": 178,
   "metadata": {},
   "outputs": [],
   "source": [
    "ca=Web3.toChecksumAddress('0xb4dbf8fc397bd36a0a6cffee6eae2789728ce73c')"
   ]
  },
  {
   "cell_type": "code",
   "execution_count": 179,
   "metadata": {},
   "outputs": [],
   "source": [
    "file=open('Certificate.json',encoding='utf-8')"
   ]
  },
  {
   "cell_type": "code",
   "execution_count": 180,
   "metadata": {},
   "outputs": [],
   "source": [
    "j=json.load(file)"
   ]
  },
  {
   "cell_type": "code",
   "execution_count": 181,
   "metadata": {},
   "outputs": [],
   "source": [
    "abi=j['abi']"
   ]
  },
  {
   "cell_type": "code",
   "execution_count": 182,
   "metadata": {},
   "outputs": [],
   "source": [
    "contract = w3.eth.contract(address=ca,abi=abi)"
   ]
  },
  {
   "cell_type": "code",
   "execution_count": 183,
   "metadata": {},
   "outputs": [],
   "source": [
    "this=contract.functions"
   ]
  },
  {
   "cell_type": "code",
   "execution_count": 184,
   "metadata": {},
   "outputs": [
    {
     "data": {
      "text/plain": [
       "['__class__',\n",
       " '__delattr__',\n",
       " '__dict__',\n",
       " '__dir__',\n",
       " '__doc__',\n",
       " '__eq__',\n",
       " '__format__',\n",
       " '__ge__',\n",
       " '__getattr__',\n",
       " '__getattribute__',\n",
       " '__getitem__',\n",
       " '__gt__',\n",
       " '__hash__',\n",
       " '__init__',\n",
       " '__init_subclass__',\n",
       " '__iter__',\n",
       " '__le__',\n",
       " '__lt__',\n",
       " '__module__',\n",
       " '__ne__',\n",
       " '__new__',\n",
       " '__reduce__',\n",
       " '__reduce_ex__',\n",
       " '__repr__',\n",
       " '__setattr__',\n",
       " '__sizeof__',\n",
       " '__str__',\n",
       " '__subclasshook__',\n",
       " '__weakref__',\n",
       " '_function_names',\n",
       " '_functions',\n",
       " 'abi',\n",
       " 'get_certificate_self',\n",
       " 'get_count',\n",
       " 'index_certificate',\n",
       " 'insert_certificate',\n",
       " 'users_mapping']"
      ]
     },
     "execution_count": 184,
     "metadata": {},
     "output_type": "execute_result"
    }
   ],
   "source": [
    "dir(this)"
   ]
  },
  {
   "cell_type": "code",
   "execution_count": 135,
   "metadata": {},
   "outputs": [],
   "source": [
    "sa = Web3.toChecksumAddress('0x9722d0fe01674a7e61f712ac5520a8a230ce1329')"
   ]
  },
  {
   "cell_type": "code",
   "execution_count": 12,
   "metadata": {},
   "outputs": [],
   "source": [
    "sa = Web3.toChecksumAddress(0x986e1d6129efb5e3137ab238827568a5ed0de6b2)"
   ]
  },
  {
   "cell_type": "code",
   "execution_count": 136,
   "metadata": {},
   "outputs": [],
   "source": [
    "thash=this.insert_certificate('qwertyuiop',sa).transact({'gas':2122222})"
   ]
  },
  {
   "cell_type": "code",
   "execution_count": 139,
   "metadata": {},
   "outputs": [],
   "source": [
    "thash=this.get_count(sa).call()"
   ]
  },
  {
   "cell_type": "code",
   "execution_count": 156,
   "metadata": {
    "scrolled": false
   },
   "outputs": [
    {
     "data": {
      "text/plain": [
       "\"{'address': '0x9722d0fe01674a7e61f712ac5520a8a230ce1329', 'certi_for': 'Python Everwhere', 'doi': '12/15', 'noia': 'Python Org.', 'description': 'This is a python certificate.'}\""
      ]
     },
     "execution_count": 156,
     "metadata": {},
     "output_type": "execute_result"
    }
   ],
   "source": [
    "thash2 = this.index_certificate(sa,5).call()\n",
    "thash2"
   ]
  },
  {
   "cell_type": "code",
   "execution_count": 157,
   "metadata": {},
   "outputs": [],
   "source": [
    "import hashlib"
   ]
  },
  {
   "cell_type": "code",
   "execution_count": 168,
   "metadata": {},
   "outputs": [
    {
     "data": {
      "text/plain": [
       "'ff6ccf860a237360cc1c9f45548a93d4f417045186cafe54d9264a91a6166cdc'"
      ]
     },
     "execution_count": 168,
     "metadata": {},
     "output_type": "execute_result"
    }
   ],
   "source": [
    "sha1=hashlib.sha256(thash2.encode('utf-8')).hexdigest()\n",
    "sha1"
   ]
  },
  {
   "cell_type": "code",
   "execution_count": 169,
   "metadata": {},
   "outputs": [],
   "source": [
    "sha2='ff6ccf860a237360cc1c9f45548a93d4f417045186cafe54d9264a91a6166cdc'"
   ]
  },
  {
   "cell_type": "code",
   "execution_count": 174,
   "metadata": {},
   "outputs": [
    {
     "name": "stdout",
     "output_type": "stream",
     "text": [
      "Yoloooloollo\n"
     ]
    }
   ],
   "source": [
    "if sha2 == str(sha1):\n",
    "    print('Yoloooloollo')"
   ]
  },
  {
   "cell_type": "code",
   "execution_count": null,
   "metadata": {},
   "outputs": [],
   "source": [
    "c=[]\n",
    "for a in range(thash):\n",
    "    c.append(this.index_certificate(sa,a).call())"
   ]
  },
  {
   "cell_type": "code",
   "execution_count": 155,
   "metadata": {},
   "outputs": [
    {
     "data": {
      "text/plain": [
       "\"ImmutableMultiDict([('address', '0x9722d0fe01674a7e61f712ac5520a8a230ce1329'), ('certi_for', 'Python Everwhere'), ('doi', '12/15'), ('noia', 'Python Org.'), ('description', 'This is a python certificate.')])\""
      ]
     },
     "execution_count": 155,
     "metadata": {},
     "output_type": "execute_result"
    }
   ],
   "source": [
    "c[1]"
   ]
  },
  {
   "cell_type": "code",
   "execution_count": null,
   "metadata": {},
   "outputs": [],
   "source": []
  },
  {
   "cell_type": "code",
   "execution_count": 117,
   "metadata": {},
   "outputs": [
    {
     "ename": "ValueError",
     "evalue": "{'message': 'VM Exception while processing transaction: revert', 'code': -32000, 'data': {'0x739283951631fa02e4e7c9fc6369972506199e8704be4bc387b2c17d12573405': {'error': 'revert', 'program_counter': 92, 'return': '0x0'}, 'stack': 'i: VM Exception while processing transaction: revert\\n    at Function.i.fromResults (C:\\\\Users\\\\saksham\\\\AppData\\\\Roaming\\\\npm\\\\node_modules\\\\ganache-cli\\\\build\\\\cli.node.js:10:163747)\\n    at C:\\\\Users\\\\saksham\\\\AppData\\\\Roaming\\\\npm\\\\node_modules\\\\ganache-cli\\\\build\\\\cli.node.js:30:121483\\n    at C:\\\\Users\\\\saksham\\\\AppData\\\\Roaming\\\\npm\\\\node_modules\\\\ganache-cli\\\\build\\\\cli.node.js:37:15061\\n    at p (C:\\\\Users\\\\saksham\\\\AppData\\\\Roaming\\\\npm\\\\node_modules\\\\ganache-cli\\\\build\\\\cli.node.js:37:15496)\\n    at C:\\\\Users\\\\saksham\\\\AppData\\\\Roaming\\\\npm\\\\node_modules\\\\ganache-cli\\\\build\\\\cli.node.js:37:15549\\n    at a.default (C:\\\\Users\\\\saksham\\\\AppData\\\\Roaming\\\\npm\\\\node_modules\\\\ganache-cli\\\\build\\\\cli.node.js:149:104558)\\n    at C:\\\\Users\\\\saksham\\\\AppData\\\\Roaming\\\\npm\\\\node_modules\\\\ganache-cli\\\\build\\\\cli.node.js:37:14433\\n    at v.r.emit (C:\\\\Users\\\\saksham\\\\AppData\\\\Roaming\\\\npm\\\\node_modules\\\\ganache-cli\\\\build\\\\cli.node.js:134:1257132)\\n    at C:\\\\Users\\\\saksham\\\\AppData\\\\Roaming\\\\npm\\\\node_modules\\\\ganache-cli\\\\build\\\\cli.node.js:134:472444\\n    at C:\\\\Users\\\\saksham\\\\AppData\\\\Roaming\\\\npm\\\\node_modules\\\\ganache-cli\\\\build\\\\cli.node.js:134:472467\\n    at C:\\\\Users\\\\saksham\\\\AppData\\\\Roaming\\\\npm\\\\node_modules\\\\ganache-cli\\\\build\\\\cli.node.js:134:1259919\\n    at C:\\\\Users\\\\saksham\\\\AppData\\\\Roaming\\\\npm\\\\node_modules\\\\ganache-cli\\\\build\\\\cli.node.js:2:67763\\n    at d (C:\\\\Users\\\\saksham\\\\AppData\\\\Roaming\\\\npm\\\\node_modules\\\\ganache-cli\\\\build\\\\cli.node.js:2:70993)\\n    at C:\\\\Users\\\\saksham\\\\AppData\\\\Roaming\\\\npm\\\\node_modules\\\\ganache-cli\\\\build\\\\cli.node.js:2:71035\\n    at Da (C:\\\\Users\\\\saksham\\\\AppData\\\\Roaming\\\\npm\\\\node_modules\\\\ganache-cli\\\\build\\\\cli.node.js:2:80468)\\n    at Object.<anonymous> (C:\\\\Users\\\\saksham\\\\AppData\\\\Roaming\\\\npm\\\\node_modules\\\\ganache-cli\\\\build\\\\cli.node.js:2:71124)\\n    at C:\\\\Users\\\\saksham\\\\AppData\\\\Roaming\\\\npm\\\\node_modules\\\\ganache-cli\\\\build\\\\cli.node.js:134:1259840\\n    at C:\\\\Users\\\\saksham\\\\AppData\\\\Roaming\\\\npm\\\\node_modules\\\\ganache-cli\\\\build\\\\cli.node.js:2:70705\\n    at n (C:\\\\Users\\\\saksham\\\\AppData\\\\Roaming\\\\npm\\\\node_modules\\\\ganache-cli\\\\build\\\\cli.node.js:2:85832)\\n    at C:\\\\Users\\\\saksham\\\\AppData\\\\Roaming\\\\npm\\\\node_modules\\\\ganache-cli\\\\build\\\\cli.node.js:134:1259821\\n    at n (C:\\\\Users\\\\saksham\\\\AppData\\\\Roaming\\\\npm\\\\node_modules\\\\ganache-cli\\\\build\\\\cli.node.js:2:85804)\\n    at C:\\\\Users\\\\saksham\\\\AppData\\\\Roaming\\\\npm\\\\node_modules\\\\ganache-cli\\\\build\\\\cli.node.js:134:1259821', 'name': 'i'}}",
     "output_type": "error",
     "traceback": [
      "\u001b[1;31m---------------------------------------------------------------------------\u001b[0m",
      "\u001b[1;31mValueError\u001b[0m                                Traceback (most recent call last)",
      "\u001b[1;32m<ipython-input-117-9c5886c96405>\u001b[0m in \u001b[0;36m<module>\u001b[1;34m\u001b[0m\n\u001b[1;32m----> 1\u001b[1;33m \u001b[0mthash_tr2\u001b[0m \u001b[1;33m=\u001b[0m \u001b[0mthash\u001b[0m\u001b[1;33m.\u001b[0m\u001b[0mtransact\u001b[0m\u001b[1;33m(\u001b[0m\u001b[1;33m{\u001b[0m\u001b[1;34m'gas'\u001b[0m\u001b[1;33m:\u001b[0m\u001b[1;36m2122222\u001b[0m\u001b[1;33m}\u001b[0m\u001b[1;33m)\u001b[0m\u001b[1;33m\u001b[0m\u001b[1;33m\u001b[0m\u001b[0m\n\u001b[0m",
      "\u001b[1;32mc:\\users\\saksham\\appdata\\local\\programs\\python\\python37-32\\lib\\site-packages\\web3\\contract.py\u001b[0m in \u001b[0;36mtransact\u001b[1;34m(self, transaction)\u001b[0m\n\u001b[0;32m   1155\u001b[0m             \u001b[0mself\u001b[0m\u001b[1;33m.\u001b[0m\u001b[0mabi\u001b[0m\u001b[1;33m,\u001b[0m\u001b[1;33m\u001b[0m\u001b[1;33m\u001b[0m\u001b[0m\n\u001b[0;32m   1156\u001b[0m             \u001b[1;33m*\u001b[0m\u001b[0mself\u001b[0m\u001b[1;33m.\u001b[0m\u001b[0margs\u001b[0m\u001b[1;33m,\u001b[0m\u001b[1;33m\u001b[0m\u001b[1;33m\u001b[0m\u001b[0m\n\u001b[1;32m-> 1157\u001b[1;33m             \u001b[1;33m**\u001b[0m\u001b[0mself\u001b[0m\u001b[1;33m.\u001b[0m\u001b[0mkwargs\u001b[0m\u001b[1;33m\u001b[0m\u001b[1;33m\u001b[0m\u001b[0m\n\u001b[0m\u001b[0;32m   1158\u001b[0m         )\n\u001b[0;32m   1159\u001b[0m \u001b[1;33m\u001b[0m\u001b[0m\n",
      "\u001b[1;32mc:\\users\\saksham\\appdata\\local\\programs\\python\\python37-32\\lib\\site-packages\\web3\\contract.py\u001b[0m in \u001b[0;36mtransact_with_contract_function\u001b[1;34m(address, web3, function_name, transaction, contract_abi, fn_abi, *args, **kwargs)\u001b[0m\n\u001b[0;32m   1458\u001b[0m     )\n\u001b[0;32m   1459\u001b[0m \u001b[1;33m\u001b[0m\u001b[0m\n\u001b[1;32m-> 1460\u001b[1;33m     \u001b[0mtxn_hash\u001b[0m \u001b[1;33m=\u001b[0m \u001b[0mweb3\u001b[0m\u001b[1;33m.\u001b[0m\u001b[0meth\u001b[0m\u001b[1;33m.\u001b[0m\u001b[0msendTransaction\u001b[0m\u001b[1;33m(\u001b[0m\u001b[0mtransact_transaction\u001b[0m\u001b[1;33m)\u001b[0m\u001b[1;33m\u001b[0m\u001b[1;33m\u001b[0m\u001b[0m\n\u001b[0m\u001b[0;32m   1461\u001b[0m     \u001b[1;32mreturn\u001b[0m \u001b[0mtxn_hash\u001b[0m\u001b[1;33m\u001b[0m\u001b[1;33m\u001b[0m\u001b[0m\n\u001b[0;32m   1462\u001b[0m \u001b[1;33m\u001b[0m\u001b[0m\n",
      "\u001b[1;32mc:\\users\\saksham\\appdata\\local\\programs\\python\\python37-32\\lib\\site-packages\\web3\\eth.py\u001b[0m in \u001b[0;36msendTransaction\u001b[1;34m(self, transaction)\u001b[0m\n\u001b[0;32m    266\u001b[0m         return self.web3.manager.request_blocking(\n\u001b[0;32m    267\u001b[0m             \u001b[1;34m\"eth_sendTransaction\"\u001b[0m\u001b[1;33m,\u001b[0m\u001b[1;33m\u001b[0m\u001b[1;33m\u001b[0m\u001b[0m\n\u001b[1;32m--> 268\u001b[1;33m             \u001b[1;33m[\u001b[0m\u001b[0mtransaction\u001b[0m\u001b[1;33m]\u001b[0m\u001b[1;33m,\u001b[0m\u001b[1;33m\u001b[0m\u001b[1;33m\u001b[0m\u001b[0m\n\u001b[0m\u001b[0;32m    269\u001b[0m         )\n\u001b[0;32m    270\u001b[0m \u001b[1;33m\u001b[0m\u001b[0m\n",
      "\u001b[1;32mc:\\users\\saksham\\appdata\\local\\programs\\python\\python37-32\\lib\\site-packages\\web3\\manager.py\u001b[0m in \u001b[0;36mrequest_blocking\u001b[1;34m(self, method, params)\u001b[0m\n\u001b[0;32m    110\u001b[0m \u001b[1;33m\u001b[0m\u001b[0m\n\u001b[0;32m    111\u001b[0m         \u001b[1;32mif\u001b[0m \u001b[1;34m\"error\"\u001b[0m \u001b[1;32min\u001b[0m \u001b[0mresponse\u001b[0m\u001b[1;33m:\u001b[0m\u001b[1;33m\u001b[0m\u001b[1;33m\u001b[0m\u001b[0m\n\u001b[1;32m--> 112\u001b[1;33m             \u001b[1;32mraise\u001b[0m \u001b[0mValueError\u001b[0m\u001b[1;33m(\u001b[0m\u001b[0mresponse\u001b[0m\u001b[1;33m[\u001b[0m\u001b[1;34m\"error\"\u001b[0m\u001b[1;33m]\u001b[0m\u001b[1;33m)\u001b[0m\u001b[1;33m\u001b[0m\u001b[1;33m\u001b[0m\u001b[0m\n\u001b[0m\u001b[0;32m    113\u001b[0m \u001b[1;33m\u001b[0m\u001b[0m\n\u001b[0;32m    114\u001b[0m         \u001b[1;32mreturn\u001b[0m \u001b[0mresponse\u001b[0m\u001b[1;33m[\u001b[0m\u001b[1;34m'result'\u001b[0m\u001b[1;33m]\u001b[0m\u001b[1;33m\u001b[0m\u001b[1;33m\u001b[0m\u001b[0m\n",
      "\u001b[1;31mValueError\u001b[0m: {'message': 'VM Exception while processing transaction: revert', 'code': -32000, 'data': {'0x739283951631fa02e4e7c9fc6369972506199e8704be4bc387b2c17d12573405': {'error': 'revert', 'program_counter': 92, 'return': '0x0'}, 'stack': 'i: VM Exception while processing transaction: revert\\n    at Function.i.fromResults (C:\\\\Users\\\\saksham\\\\AppData\\\\Roaming\\\\npm\\\\node_modules\\\\ganache-cli\\\\build\\\\cli.node.js:10:163747)\\n    at C:\\\\Users\\\\saksham\\\\AppData\\\\Roaming\\\\npm\\\\node_modules\\\\ganache-cli\\\\build\\\\cli.node.js:30:121483\\n    at C:\\\\Users\\\\saksham\\\\AppData\\\\Roaming\\\\npm\\\\node_modules\\\\ganache-cli\\\\build\\\\cli.node.js:37:15061\\n    at p (C:\\\\Users\\\\saksham\\\\AppData\\\\Roaming\\\\npm\\\\node_modules\\\\ganache-cli\\\\build\\\\cli.node.js:37:15496)\\n    at C:\\\\Users\\\\saksham\\\\AppData\\\\Roaming\\\\npm\\\\node_modules\\\\ganache-cli\\\\build\\\\cli.node.js:37:15549\\n    at a.default (C:\\\\Users\\\\saksham\\\\AppData\\\\Roaming\\\\npm\\\\node_modules\\\\ganache-cli\\\\build\\\\cli.node.js:149:104558)\\n    at C:\\\\Users\\\\saksham\\\\AppData\\\\Roaming\\\\npm\\\\node_modules\\\\ganache-cli\\\\build\\\\cli.node.js:37:14433\\n    at v.r.emit (C:\\\\Users\\\\saksham\\\\AppData\\\\Roaming\\\\npm\\\\node_modules\\\\ganache-cli\\\\build\\\\cli.node.js:134:1257132)\\n    at C:\\\\Users\\\\saksham\\\\AppData\\\\Roaming\\\\npm\\\\node_modules\\\\ganache-cli\\\\build\\\\cli.node.js:134:472444\\n    at C:\\\\Users\\\\saksham\\\\AppData\\\\Roaming\\\\npm\\\\node_modules\\\\ganache-cli\\\\build\\\\cli.node.js:134:472467\\n    at C:\\\\Users\\\\saksham\\\\AppData\\\\Roaming\\\\npm\\\\node_modules\\\\ganache-cli\\\\build\\\\cli.node.js:134:1259919\\n    at C:\\\\Users\\\\saksham\\\\AppData\\\\Roaming\\\\npm\\\\node_modules\\\\ganache-cli\\\\build\\\\cli.node.js:2:67763\\n    at d (C:\\\\Users\\\\saksham\\\\AppData\\\\Roaming\\\\npm\\\\node_modules\\\\ganache-cli\\\\build\\\\cli.node.js:2:70993)\\n    at C:\\\\Users\\\\saksham\\\\AppData\\\\Roaming\\\\npm\\\\node_modules\\\\ganache-cli\\\\build\\\\cli.node.js:2:71035\\n    at Da (C:\\\\Users\\\\saksham\\\\AppData\\\\Roaming\\\\npm\\\\node_modules\\\\ganache-cli\\\\build\\\\cli.node.js:2:80468)\\n    at Object.<anonymous> (C:\\\\Users\\\\saksham\\\\AppData\\\\Roaming\\\\npm\\\\node_modules\\\\ganache-cli\\\\build\\\\cli.node.js:2:71124)\\n    at C:\\\\Users\\\\saksham\\\\AppData\\\\Roaming\\\\npm\\\\node_modules\\\\ganache-cli\\\\build\\\\cli.node.js:134:1259840\\n    at C:\\\\Users\\\\saksham\\\\AppData\\\\Roaming\\\\npm\\\\node_modules\\\\ganache-cli\\\\build\\\\cli.node.js:2:70705\\n    at n (C:\\\\Users\\\\saksham\\\\AppData\\\\Roaming\\\\npm\\\\node_modules\\\\ganache-cli\\\\build\\\\cli.node.js:2:85832)\\n    at C:\\\\Users\\\\saksham\\\\AppData\\\\Roaming\\\\npm\\\\node_modules\\\\ganache-cli\\\\build\\\\cli.node.js:134:1259821\\n    at n (C:\\\\Users\\\\saksham\\\\AppData\\\\Roaming\\\\npm\\\\node_modules\\\\ganache-cli\\\\build\\\\cli.node.js:2:85804)\\n    at C:\\\\Users\\\\saksham\\\\AppData\\\\Roaming\\\\npm\\\\node_modules\\\\ganache-cli\\\\build\\\\cli.node.js:134:1259821', 'name': 'i'}}"
     ]
    }
   ],
   "source": [
    "thash_tr2 = thash.transact({'gas':2122222})"
   ]
  },
  {
   "cell_type": "code",
   "execution_count": 108,
   "metadata": {},
   "outputs": [
    {
     "ename": "TypeError",
     "evalue": "expected an int in first arg, or keyword of hexstr or text",
     "output_type": "error",
     "traceback": [
      "\u001b[1;31m---------------------------------------------------------------------------\u001b[0m",
      "\u001b[1;31mTypeError\u001b[0m                                 Traceback (most recent call last)",
      "\u001b[1;32m<ipython-input-108-f486f6a46f4b>\u001b[0m in \u001b[0;36m<module>\u001b[1;34m\u001b[0m\n\u001b[1;32m----> 1\u001b[1;33m \u001b[0mw3\u001b[0m\u001b[1;33m.\u001b[0m\u001b[0meth\u001b[0m\u001b[1;33m.\u001b[0m\u001b[0mgetTransaction\u001b[0m\u001b[1;33m(\u001b[0m\u001b[0mthash\u001b[0m\u001b[1;33m)\u001b[0m\u001b[1;33m\u001b[0m\u001b[1;33m\u001b[0m\u001b[0m\n\u001b[0m",
      "\u001b[1;32mc:\\users\\saksham\\appdata\\local\\programs\\python\\python37-32\\lib\\site-packages\\web3\\eth.py\u001b[0m in \u001b[0;36mgetTransaction\u001b[1;34m(self, transaction_hash)\u001b[0m\n\u001b[0;32m    193\u001b[0m         return self.web3.manager.request_blocking(\n\u001b[0;32m    194\u001b[0m             \u001b[1;34m\"eth_getTransactionByHash\"\u001b[0m\u001b[1;33m,\u001b[0m\u001b[1;33m\u001b[0m\u001b[1;33m\u001b[0m\u001b[0m\n\u001b[1;32m--> 195\u001b[1;33m             \u001b[1;33m[\u001b[0m\u001b[0mtransaction_hash\u001b[0m\u001b[1;33m]\u001b[0m\u001b[1;33m,\u001b[0m\u001b[1;33m\u001b[0m\u001b[1;33m\u001b[0m\u001b[0m\n\u001b[0m\u001b[0;32m    196\u001b[0m         )\n\u001b[0;32m    197\u001b[0m \u001b[1;33m\u001b[0m\u001b[0m\n",
      "\u001b[1;32mc:\\users\\saksham\\appdata\\local\\programs\\python\\python37-32\\lib\\site-packages\\web3\\manager.py\u001b[0m in \u001b[0;36mrequest_blocking\u001b[1;34m(self, method, params)\u001b[0m\n\u001b[0;32m    107\u001b[0m         \u001b[0mMake\u001b[0m \u001b[0ma\u001b[0m \u001b[0msynchronous\u001b[0m \u001b[0mrequest\u001b[0m \u001b[0musing\u001b[0m \u001b[0mthe\u001b[0m \u001b[0mprovider\u001b[0m\u001b[1;33m\u001b[0m\u001b[1;33m\u001b[0m\u001b[0m\n\u001b[0;32m    108\u001b[0m         \"\"\"\n\u001b[1;32m--> 109\u001b[1;33m         \u001b[0mresponse\u001b[0m \u001b[1;33m=\u001b[0m \u001b[0mself\u001b[0m\u001b[1;33m.\u001b[0m\u001b[0m_make_request\u001b[0m\u001b[1;33m(\u001b[0m\u001b[0mmethod\u001b[0m\u001b[1;33m,\u001b[0m \u001b[0mparams\u001b[0m\u001b[1;33m)\u001b[0m\u001b[1;33m\u001b[0m\u001b[1;33m\u001b[0m\u001b[0m\n\u001b[0m\u001b[0;32m    110\u001b[0m \u001b[1;33m\u001b[0m\u001b[0m\n\u001b[0;32m    111\u001b[0m         \u001b[1;32mif\u001b[0m \u001b[1;34m\"error\"\u001b[0m \u001b[1;32min\u001b[0m \u001b[0mresponse\u001b[0m\u001b[1;33m:\u001b[0m\u001b[1;33m\u001b[0m\u001b[1;33m\u001b[0m\u001b[0m\n",
      "\u001b[1;32mc:\\users\\saksham\\appdata\\local\\programs\\python\\python37-32\\lib\\site-packages\\web3\\manager.py\u001b[0m in \u001b[0;36m_make_request\u001b[1;34m(self, method, params)\u001b[0m\n\u001b[0;32m     90\u001b[0m             \u001b[0mself\u001b[0m\u001b[1;33m.\u001b[0m\u001b[0mlogger\u001b[0m\u001b[1;33m.\u001b[0m\u001b[0mdebug\u001b[0m\u001b[1;33m(\u001b[0m\u001b[1;34m\"Making request. Method: %s\"\u001b[0m\u001b[1;33m,\u001b[0m \u001b[0mmethod\u001b[0m\u001b[1;33m)\u001b[0m\u001b[1;33m\u001b[0m\u001b[1;33m\u001b[0m\u001b[0m\n\u001b[0;32m     91\u001b[0m             \u001b[1;32mtry\u001b[0m\u001b[1;33m:\u001b[0m\u001b[1;33m\u001b[0m\u001b[1;33m\u001b[0m\u001b[0m\n\u001b[1;32m---> 92\u001b[1;33m                 \u001b[1;32mreturn\u001b[0m \u001b[0mrequest_func\u001b[0m\u001b[1;33m(\u001b[0m\u001b[0mmethod\u001b[0m\u001b[1;33m,\u001b[0m \u001b[0mparams\u001b[0m\u001b[1;33m)\u001b[0m\u001b[1;33m\u001b[0m\u001b[1;33m\u001b[0m\u001b[0m\n\u001b[0m\u001b[0;32m     93\u001b[0m             \u001b[1;32mexcept\u001b[0m \u001b[0mCannotHandleRequest\u001b[0m\u001b[1;33m:\u001b[0m\u001b[1;33m\u001b[0m\u001b[1;33m\u001b[0m\u001b[0m\n\u001b[0;32m     94\u001b[0m                 \u001b[1;32mcontinue\u001b[0m\u001b[1;33m\u001b[0m\u001b[1;33m\u001b[0m\u001b[0m\n",
      "\u001b[1;32mfunctoolz.pyx\u001b[0m in \u001b[0;36mcytoolz.functoolz.curry.__call__\u001b[1;34m()\u001b[0m\n",
      "\u001b[1;32mfunctoolz.pyx\u001b[0m in \u001b[0;36mcytoolz.functoolz.curry.__call__\u001b[1;34m()\u001b[0m\n",
      "\u001b[1;32mc:\\users\\saksham\\appdata\\local\\programs\\python\\python37-32\\lib\\site-packages\\web3\\middleware\\formatting.py\u001b[0m in \u001b[0;36mapply_formatters\u001b[1;34m(method, params, make_request, request_formatters, result_formatters, error_formatters)\u001b[0m\n\u001b[0;32m     48\u001b[0m         \u001b[0mresponse\u001b[0m \u001b[1;33m=\u001b[0m \u001b[0mmake_request\u001b[0m\u001b[1;33m(\u001b[0m\u001b[0mmethod\u001b[0m\u001b[1;33m,\u001b[0m \u001b[0mformatted_params\u001b[0m\u001b[1;33m)\u001b[0m\u001b[1;33m\u001b[0m\u001b[1;33m\u001b[0m\u001b[0m\n\u001b[0;32m     49\u001b[0m     \u001b[1;32melse\u001b[0m\u001b[1;33m:\u001b[0m\u001b[1;33m\u001b[0m\u001b[1;33m\u001b[0m\u001b[0m\n\u001b[1;32m---> 50\u001b[1;33m         \u001b[0mresponse\u001b[0m \u001b[1;33m=\u001b[0m \u001b[0mmake_request\u001b[0m\u001b[1;33m(\u001b[0m\u001b[0mmethod\u001b[0m\u001b[1;33m,\u001b[0m \u001b[0mparams\u001b[0m\u001b[1;33m)\u001b[0m\u001b[1;33m\u001b[0m\u001b[1;33m\u001b[0m\u001b[0m\n\u001b[0m\u001b[0;32m     51\u001b[0m \u001b[1;33m\u001b[0m\u001b[0m\n\u001b[0;32m     52\u001b[0m     \u001b[1;32mif\u001b[0m \u001b[1;34m'result'\u001b[0m \u001b[1;32min\u001b[0m \u001b[0mresponse\u001b[0m \u001b[1;32mand\u001b[0m \u001b[0mmethod\u001b[0m \u001b[1;32min\u001b[0m \u001b[0mresult_formatters\u001b[0m\u001b[1;33m:\u001b[0m\u001b[1;33m\u001b[0m\u001b[1;33m\u001b[0m\u001b[0m\n",
      "\u001b[1;32mc:\\users\\saksham\\appdata\\local\\programs\\python\\python37-32\\lib\\site-packages\\web3\\middleware\\gas_price_strategy.py\u001b[0m in \u001b[0;36mmiddleware\u001b[1;34m(method, params)\u001b[0m\n\u001b[0;32m     16\u001b[0m                     \u001b[0mtransaction\u001b[0m \u001b[1;33m=\u001b[0m \u001b[0massoc\u001b[0m\u001b[1;33m(\u001b[0m\u001b[0mtransaction\u001b[0m\u001b[1;33m,\u001b[0m \u001b[1;34m'gasPrice'\u001b[0m\u001b[1;33m,\u001b[0m \u001b[0mgenerated_gas_price\u001b[0m\u001b[1;33m)\u001b[0m\u001b[1;33m\u001b[0m\u001b[1;33m\u001b[0m\u001b[0m\n\u001b[0;32m     17\u001b[0m                     \u001b[1;32mreturn\u001b[0m \u001b[0mmake_request\u001b[0m\u001b[1;33m(\u001b[0m\u001b[0mmethod\u001b[0m\u001b[1;33m,\u001b[0m \u001b[1;33m[\u001b[0m\u001b[0mtransaction\u001b[0m\u001b[1;33m]\u001b[0m\u001b[1;33m)\u001b[0m\u001b[1;33m\u001b[0m\u001b[1;33m\u001b[0m\u001b[0m\n\u001b[1;32m---> 18\u001b[1;33m         \u001b[1;32mreturn\u001b[0m \u001b[0mmake_request\u001b[0m\u001b[1;33m(\u001b[0m\u001b[0mmethod\u001b[0m\u001b[1;33m,\u001b[0m \u001b[0mparams\u001b[0m\u001b[1;33m)\u001b[0m\u001b[1;33m\u001b[0m\u001b[1;33m\u001b[0m\u001b[0m\n\u001b[0m\u001b[0;32m     19\u001b[0m     \u001b[1;32mreturn\u001b[0m \u001b[0mmiddleware\u001b[0m\u001b[1;33m\u001b[0m\u001b[1;33m\u001b[0m\u001b[0m\n",
      "\u001b[1;32mfunctoolz.pyx\u001b[0m in \u001b[0;36mcytoolz.functoolz.curry.__call__\u001b[1;34m()\u001b[0m\n",
      "\u001b[1;32mfunctoolz.pyx\u001b[0m in \u001b[0;36mcytoolz.functoolz.curry.__call__\u001b[1;34m()\u001b[0m\n",
      "\u001b[1;32mc:\\users\\saksham\\appdata\\local\\programs\\python\\python37-32\\lib\\site-packages\\web3\\middleware\\formatting.py\u001b[0m in \u001b[0;36mapply_formatters\u001b[1;34m(method, params, make_request, request_formatters, result_formatters, error_formatters)\u001b[0m\n\u001b[0;32m     46\u001b[0m         \u001b[0mformatter\u001b[0m \u001b[1;33m=\u001b[0m \u001b[0mrequest_formatters\u001b[0m\u001b[1;33m[\u001b[0m\u001b[0mmethod\u001b[0m\u001b[1;33m]\u001b[0m\u001b[1;33m\u001b[0m\u001b[1;33m\u001b[0m\u001b[0m\n\u001b[0;32m     47\u001b[0m         \u001b[0mformatted_params\u001b[0m \u001b[1;33m=\u001b[0m \u001b[0mformatter\u001b[0m\u001b[1;33m(\u001b[0m\u001b[0mparams\u001b[0m\u001b[1;33m)\u001b[0m\u001b[1;33m\u001b[0m\u001b[1;33m\u001b[0m\u001b[0m\n\u001b[1;32m---> 48\u001b[1;33m         \u001b[0mresponse\u001b[0m \u001b[1;33m=\u001b[0m \u001b[0mmake_request\u001b[0m\u001b[1;33m(\u001b[0m\u001b[0mmethod\u001b[0m\u001b[1;33m,\u001b[0m \u001b[0mformatted_params\u001b[0m\u001b[1;33m)\u001b[0m\u001b[1;33m\u001b[0m\u001b[1;33m\u001b[0m\u001b[0m\n\u001b[0m\u001b[0;32m     49\u001b[0m     \u001b[1;32melse\u001b[0m\u001b[1;33m:\u001b[0m\u001b[1;33m\u001b[0m\u001b[1;33m\u001b[0m\u001b[0m\n\u001b[0;32m     50\u001b[0m         \u001b[0mresponse\u001b[0m \u001b[1;33m=\u001b[0m \u001b[0mmake_request\u001b[0m\u001b[1;33m(\u001b[0m\u001b[0mmethod\u001b[0m\u001b[1;33m,\u001b[0m \u001b[0mparams\u001b[0m\u001b[1;33m)\u001b[0m\u001b[1;33m\u001b[0m\u001b[1;33m\u001b[0m\u001b[0m\n",
      "\u001b[1;32mc:\\users\\saksham\\appdata\\local\\programs\\python\\python37-32\\lib\\site-packages\\web3\\middleware\\attrdict.py\u001b[0m in \u001b[0;36mmiddleware\u001b[1;34m(method, params)\u001b[0m\n\u001b[0;32m     16\u001b[0m     \"\"\"\n\u001b[0;32m     17\u001b[0m     \u001b[1;32mdef\u001b[0m \u001b[0mmiddleware\u001b[0m\u001b[1;33m(\u001b[0m\u001b[0mmethod\u001b[0m\u001b[1;33m,\u001b[0m \u001b[0mparams\u001b[0m\u001b[1;33m)\u001b[0m\u001b[1;33m:\u001b[0m\u001b[1;33m\u001b[0m\u001b[1;33m\u001b[0m\u001b[0m\n\u001b[1;32m---> 18\u001b[1;33m         \u001b[0mresponse\u001b[0m \u001b[1;33m=\u001b[0m \u001b[0mmake_request\u001b[0m\u001b[1;33m(\u001b[0m\u001b[0mmethod\u001b[0m\u001b[1;33m,\u001b[0m \u001b[0mparams\u001b[0m\u001b[1;33m)\u001b[0m\u001b[1;33m\u001b[0m\u001b[1;33m\u001b[0m\u001b[0m\n\u001b[0m\u001b[0;32m     19\u001b[0m \u001b[1;33m\u001b[0m\u001b[0m\n\u001b[0;32m     20\u001b[0m         \u001b[1;32mif\u001b[0m \u001b[1;34m'result'\u001b[0m \u001b[1;32min\u001b[0m \u001b[0mresponse\u001b[0m\u001b[1;33m:\u001b[0m\u001b[1;33m\u001b[0m\u001b[1;33m\u001b[0m\u001b[0m\n",
      "\u001b[1;32mfunctoolz.pyx\u001b[0m in \u001b[0;36mcytoolz.functoolz.curry.__call__\u001b[1;34m()\u001b[0m\n",
      "\u001b[1;32mfunctoolz.pyx\u001b[0m in \u001b[0;36mcytoolz.functoolz.curry.__call__\u001b[1;34m()\u001b[0m\n",
      "\u001b[1;32mc:\\users\\saksham\\appdata\\local\\programs\\python\\python37-32\\lib\\site-packages\\web3\\middleware\\formatting.py\u001b[0m in \u001b[0;36mapply_formatters\u001b[1;34m(method, params, make_request, request_formatters, result_formatters, error_formatters)\u001b[0m\n\u001b[0;32m     48\u001b[0m         \u001b[0mresponse\u001b[0m \u001b[1;33m=\u001b[0m \u001b[0mmake_request\u001b[0m\u001b[1;33m(\u001b[0m\u001b[0mmethod\u001b[0m\u001b[1;33m,\u001b[0m \u001b[0mformatted_params\u001b[0m\u001b[1;33m)\u001b[0m\u001b[1;33m\u001b[0m\u001b[1;33m\u001b[0m\u001b[0m\n\u001b[0;32m     49\u001b[0m     \u001b[1;32melse\u001b[0m\u001b[1;33m:\u001b[0m\u001b[1;33m\u001b[0m\u001b[1;33m\u001b[0m\u001b[0m\n\u001b[1;32m---> 50\u001b[1;33m         \u001b[0mresponse\u001b[0m \u001b[1;33m=\u001b[0m \u001b[0mmake_request\u001b[0m\u001b[1;33m(\u001b[0m\u001b[0mmethod\u001b[0m\u001b[1;33m,\u001b[0m \u001b[0mparams\u001b[0m\u001b[1;33m)\u001b[0m\u001b[1;33m\u001b[0m\u001b[1;33m\u001b[0m\u001b[0m\n\u001b[0m\u001b[0;32m     51\u001b[0m \u001b[1;33m\u001b[0m\u001b[0m\n\u001b[0;32m     52\u001b[0m     \u001b[1;32mif\u001b[0m \u001b[1;34m'result'\u001b[0m \u001b[1;32min\u001b[0m \u001b[0mresponse\u001b[0m \u001b[1;32mand\u001b[0m \u001b[0mmethod\u001b[0m \u001b[1;32min\u001b[0m \u001b[0mresult_formatters\u001b[0m\u001b[1;33m:\u001b[0m\u001b[1;33m\u001b[0m\u001b[1;33m\u001b[0m\u001b[0m\n",
      "\u001b[1;32mc:\\users\\saksham\\appdata\\local\\programs\\python\\python37-32\\lib\\site-packages\\web3\\middleware\\normalize_errors.py\u001b[0m in \u001b[0;36mmiddleware\u001b[1;34m(method, params)\u001b[0m\n\u001b[0;32m      7\u001b[0m \u001b[1;32mdef\u001b[0m \u001b[0mnormalize_errors_middleware\u001b[0m\u001b[1;33m(\u001b[0m\u001b[0mmake_request\u001b[0m\u001b[1;33m,\u001b[0m \u001b[0mweb3\u001b[0m\u001b[1;33m)\u001b[0m\u001b[1;33m:\u001b[0m\u001b[1;33m\u001b[0m\u001b[1;33m\u001b[0m\u001b[0m\n\u001b[0;32m      8\u001b[0m     \u001b[1;32mdef\u001b[0m \u001b[0mmiddleware\u001b[0m\u001b[1;33m(\u001b[0m\u001b[0mmethod\u001b[0m\u001b[1;33m,\u001b[0m \u001b[0mparams\u001b[0m\u001b[1;33m)\u001b[0m\u001b[1;33m:\u001b[0m\u001b[1;33m\u001b[0m\u001b[1;33m\u001b[0m\u001b[0m\n\u001b[1;32m----> 9\u001b[1;33m         \u001b[0mresult\u001b[0m \u001b[1;33m=\u001b[0m \u001b[0mmake_request\u001b[0m\u001b[1;33m(\u001b[0m\u001b[0mmethod\u001b[0m\u001b[1;33m,\u001b[0m \u001b[0mparams\u001b[0m\u001b[1;33m)\u001b[0m\u001b[1;33m\u001b[0m\u001b[1;33m\u001b[0m\u001b[0m\n\u001b[0m\u001b[0;32m     10\u001b[0m \u001b[1;33m\u001b[0m\u001b[0m\n\u001b[0;32m     11\u001b[0m         \u001b[1;31m# As of v1.8, Geth returns errors when you request a\u001b[0m\u001b[1;33m\u001b[0m\u001b[1;33m\u001b[0m\u001b[1;33m\u001b[0m\u001b[0m\n",
      "\u001b[1;32mfunctoolz.pyx\u001b[0m in \u001b[0;36mcytoolz.functoolz.curry.__call__\u001b[1;34m()\u001b[0m\n",
      "\u001b[1;32mfunctoolz.pyx\u001b[0m in \u001b[0;36mcytoolz.functoolz.curry.__call__\u001b[1;34m()\u001b[0m\n",
      "\u001b[1;32mc:\\users\\saksham\\appdata\\local\\programs\\python\\python37-32\\lib\\site-packages\\web3\\middleware\\formatting.py\u001b[0m in \u001b[0;36mapply_formatters\u001b[1;34m(method, params, make_request, request_formatters, result_formatters, error_formatters)\u001b[0m\n\u001b[0;32m     48\u001b[0m         \u001b[0mresponse\u001b[0m \u001b[1;33m=\u001b[0m \u001b[0mmake_request\u001b[0m\u001b[1;33m(\u001b[0m\u001b[0mmethod\u001b[0m\u001b[1;33m,\u001b[0m \u001b[0mformatted_params\u001b[0m\u001b[1;33m)\u001b[0m\u001b[1;33m\u001b[0m\u001b[1;33m\u001b[0m\u001b[0m\n\u001b[0;32m     49\u001b[0m     \u001b[1;32melse\u001b[0m\u001b[1;33m:\u001b[0m\u001b[1;33m\u001b[0m\u001b[1;33m\u001b[0m\u001b[0m\n\u001b[1;32m---> 50\u001b[1;33m         \u001b[0mresponse\u001b[0m \u001b[1;33m=\u001b[0m \u001b[0mmake_request\u001b[0m\u001b[1;33m(\u001b[0m\u001b[0mmethod\u001b[0m\u001b[1;33m,\u001b[0m \u001b[0mparams\u001b[0m\u001b[1;33m)\u001b[0m\u001b[1;33m\u001b[0m\u001b[1;33m\u001b[0m\u001b[0m\n\u001b[0m\u001b[0;32m     51\u001b[0m \u001b[1;33m\u001b[0m\u001b[0m\n\u001b[0;32m     52\u001b[0m     \u001b[1;32mif\u001b[0m \u001b[1;34m'result'\u001b[0m \u001b[1;32min\u001b[0m \u001b[0mresponse\u001b[0m \u001b[1;32mand\u001b[0m \u001b[0mmethod\u001b[0m \u001b[1;32min\u001b[0m \u001b[0mresult_formatters\u001b[0m\u001b[1;33m:\u001b[0m\u001b[1;33m\u001b[0m\u001b[1;33m\u001b[0m\u001b[0m\n",
      "\u001b[1;32mfunctoolz.pyx\u001b[0m in \u001b[0;36mcytoolz.functoolz.curry.__call__\u001b[1;34m()\u001b[0m\n",
      "\u001b[1;32mfunctoolz.pyx\u001b[0m in \u001b[0;36mcytoolz.functoolz.curry.__call__\u001b[1;34m()\u001b[0m\n",
      "\u001b[1;32mc:\\users\\saksham\\appdata\\local\\programs\\python\\python37-32\\lib\\site-packages\\web3\\middleware\\formatting.py\u001b[0m in \u001b[0;36mapply_formatters\u001b[1;34m(method, params, make_request, request_formatters, result_formatters, error_formatters)\u001b[0m\n\u001b[0;32m     45\u001b[0m     \u001b[1;32mif\u001b[0m \u001b[0mmethod\u001b[0m \u001b[1;32min\u001b[0m \u001b[0mrequest_formatters\u001b[0m\u001b[1;33m:\u001b[0m\u001b[1;33m\u001b[0m\u001b[1;33m\u001b[0m\u001b[0m\n\u001b[0;32m     46\u001b[0m         \u001b[0mformatter\u001b[0m \u001b[1;33m=\u001b[0m \u001b[0mrequest_formatters\u001b[0m\u001b[1;33m[\u001b[0m\u001b[0mmethod\u001b[0m\u001b[1;33m]\u001b[0m\u001b[1;33m\u001b[0m\u001b[1;33m\u001b[0m\u001b[0m\n\u001b[1;32m---> 47\u001b[1;33m         \u001b[0mformatted_params\u001b[0m \u001b[1;33m=\u001b[0m \u001b[0mformatter\u001b[0m\u001b[1;33m(\u001b[0m\u001b[0mparams\u001b[0m\u001b[1;33m)\u001b[0m\u001b[1;33m\u001b[0m\u001b[1;33m\u001b[0m\u001b[0m\n\u001b[0m\u001b[0;32m     48\u001b[0m         \u001b[0mresponse\u001b[0m \u001b[1;33m=\u001b[0m \u001b[0mmake_request\u001b[0m\u001b[1;33m(\u001b[0m\u001b[0mmethod\u001b[0m\u001b[1;33m,\u001b[0m \u001b[0mformatted_params\u001b[0m\u001b[1;33m)\u001b[0m\u001b[1;33m\u001b[0m\u001b[1;33m\u001b[0m\u001b[0m\n\u001b[0;32m     49\u001b[0m     \u001b[1;32melse\u001b[0m\u001b[1;33m:\u001b[0m\u001b[1;33m\u001b[0m\u001b[1;33m\u001b[0m\u001b[0m\n",
      "\u001b[1;32mfunctoolz.pyx\u001b[0m in \u001b[0;36mcytoolz.functoolz.curry.__call__\u001b[1;34m()\u001b[0m\n",
      "\u001b[1;32mfunctoolz.pyx\u001b[0m in \u001b[0;36mcytoolz.functoolz.curry.__call__\u001b[1;34m()\u001b[0m\n",
      "\u001b[1;32mc:\\users\\saksham\\appdata\\local\\programs\\python\\python37-32\\lib\\site-packages\\web3\\utils\\abi.py\u001b[0m in \u001b[0;36mmap_abi_data\u001b[1;34m(normalizers, types, data)\u001b[0m\n\u001b[0;32m    440\u001b[0m     )\n\u001b[0;32m    441\u001b[0m \u001b[1;33m\u001b[0m\u001b[0m\n\u001b[1;32m--> 442\u001b[1;33m     \u001b[1;32mreturn\u001b[0m \u001b[0mpipe\u001b[0m\u001b[1;33m(\u001b[0m\u001b[0mdata\u001b[0m\u001b[1;33m,\u001b[0m \u001b[1;33m*\u001b[0m\u001b[0mpipeline\u001b[0m\u001b[1;33m)\u001b[0m\u001b[1;33m\u001b[0m\u001b[1;33m\u001b[0m\u001b[0m\n\u001b[0m\u001b[0;32m    443\u001b[0m \u001b[1;33m\u001b[0m\u001b[0m\n\u001b[0;32m    444\u001b[0m \u001b[1;33m\u001b[0m\u001b[0m\n",
      "\u001b[1;32mfunctoolz.pyx\u001b[0m in \u001b[0;36mcytoolz.functoolz.pipe\u001b[1;34m()\u001b[0m\n",
      "\u001b[1;32mfunctoolz.pyx\u001b[0m in \u001b[0;36mcytoolz.functoolz.c_pipe\u001b[1;34m()\u001b[0m\n",
      "\u001b[1;32mfunctoolz.pyx\u001b[0m in \u001b[0;36mcytoolz.functoolz.curry.__call__\u001b[1;34m()\u001b[0m\n",
      "\u001b[1;32mfunctoolz.pyx\u001b[0m in \u001b[0;36mcytoolz.functoolz.curry.__call__\u001b[1;34m()\u001b[0m\n",
      "\u001b[1;32mc:\\users\\saksham\\appdata\\local\\programs\\python\\python37-32\\lib\\site-packages\\web3\\utils\\abi.py\u001b[0m in \u001b[0;36mdata_tree_map\u001b[1;34m(func, data_tree)\u001b[0m\n\u001b[0;32m    472\u001b[0m         \u001b[1;32melse\u001b[0m\u001b[1;33m:\u001b[0m\u001b[1;33m\u001b[0m\u001b[1;33m\u001b[0m\u001b[0m\n\u001b[0;32m    473\u001b[0m             \u001b[1;32mreturn\u001b[0m \u001b[0melements\u001b[0m\u001b[1;33m\u001b[0m\u001b[1;33m\u001b[0m\u001b[0m\n\u001b[1;32m--> 474\u001b[1;33m     \u001b[1;32mreturn\u001b[0m \u001b[0mrecursive_map\u001b[0m\u001b[1;33m(\u001b[0m\u001b[0mmap_to_typed_data\u001b[0m\u001b[1;33m,\u001b[0m \u001b[0mdata_tree\u001b[0m\u001b[1;33m)\u001b[0m\u001b[1;33m\u001b[0m\u001b[1;33m\u001b[0m\u001b[0m\n\u001b[0m\u001b[0;32m    475\u001b[0m \u001b[1;33m\u001b[0m\u001b[0m\n\u001b[0;32m    476\u001b[0m \u001b[1;33m\u001b[0m\u001b[0m\n",
      "\u001b[1;32mc:\\users\\saksham\\appdata\\local\\programs\\python\\python37-32\\lib\\site-packages\\web3\\utils\\decorators.py\u001b[0m in \u001b[0;36mwrapped\u001b[1;34m(*args)\u001b[0m\n\u001b[0;32m     33\u001b[0m         \u001b[0mto_wrap\u001b[0m\u001b[1;33m.\u001b[0m\u001b[0m__already_called\u001b[0m\u001b[1;33m[\u001b[0m\u001b[0mthread_local_args\u001b[0m\u001b[1;33m]\u001b[0m \u001b[1;33m=\u001b[0m \u001b[1;32mTrue\u001b[0m\u001b[1;33m\u001b[0m\u001b[1;33m\u001b[0m\u001b[0m\n\u001b[0;32m     34\u001b[0m         \u001b[1;32mtry\u001b[0m\u001b[1;33m:\u001b[0m\u001b[1;33m\u001b[0m\u001b[1;33m\u001b[0m\u001b[0m\n\u001b[1;32m---> 35\u001b[1;33m             \u001b[0mwrapped_val\u001b[0m \u001b[1;33m=\u001b[0m \u001b[0mto_wrap\u001b[0m\u001b[1;33m(\u001b[0m\u001b[1;33m*\u001b[0m\u001b[0margs\u001b[0m\u001b[1;33m)\u001b[0m\u001b[1;33m\u001b[0m\u001b[1;33m\u001b[0m\u001b[0m\n\u001b[0m\u001b[0;32m     36\u001b[0m         \u001b[1;32mfinally\u001b[0m\u001b[1;33m:\u001b[0m\u001b[1;33m\u001b[0m\u001b[1;33m\u001b[0m\u001b[0m\n\u001b[0;32m     37\u001b[0m             \u001b[1;32mdel\u001b[0m \u001b[0mto_wrap\u001b[0m\u001b[1;33m.\u001b[0m\u001b[0m__already_called\u001b[0m\u001b[1;33m[\u001b[0m\u001b[0mthread_local_args\u001b[0m\u001b[1;33m]\u001b[0m\u001b[1;33m\u001b[0m\u001b[1;33m\u001b[0m\u001b[0m\n",
      "\u001b[1;32mc:\\users\\saksham\\appdata\\local\\programs\\python\\python37-32\\lib\\site-packages\\web3\\utils\\formatters.py\u001b[0m in \u001b[0;36mrecursive_map\u001b[1;34m(func, data)\u001b[0m\n\u001b[0;32m    113\u001b[0m     \u001b[1;32mdef\u001b[0m \u001b[0mrecurse\u001b[0m\u001b[1;33m(\u001b[0m\u001b[0mitem\u001b[0m\u001b[1;33m)\u001b[0m\u001b[1;33m:\u001b[0m\u001b[1;33m\u001b[0m\u001b[1;33m\u001b[0m\u001b[0m\n\u001b[0;32m    114\u001b[0m         \u001b[1;32mreturn\u001b[0m \u001b[0mrecursive_map\u001b[0m\u001b[1;33m(\u001b[0m\u001b[0mfunc\u001b[0m\u001b[1;33m,\u001b[0m \u001b[0mitem\u001b[0m\u001b[1;33m)\u001b[0m\u001b[1;33m\u001b[0m\u001b[1;33m\u001b[0m\u001b[0m\n\u001b[1;32m--> 115\u001b[1;33m     \u001b[0mitems_mapped\u001b[0m \u001b[1;33m=\u001b[0m \u001b[0mmap_collection\u001b[0m\u001b[1;33m(\u001b[0m\u001b[0mrecurse\u001b[0m\u001b[1;33m,\u001b[0m \u001b[0mdata\u001b[0m\u001b[1;33m)\u001b[0m\u001b[1;33m\u001b[0m\u001b[1;33m\u001b[0m\u001b[0m\n\u001b[0m\u001b[0;32m    116\u001b[0m     \u001b[1;32mreturn\u001b[0m \u001b[0mfunc\u001b[0m\u001b[1;33m(\u001b[0m\u001b[0mitems_mapped\u001b[0m\u001b[1;33m)\u001b[0m\u001b[1;33m\u001b[0m\u001b[1;33m\u001b[0m\u001b[0m\n\u001b[0;32m    117\u001b[0m \u001b[1;33m\u001b[0m\u001b[0m\n",
      "\u001b[1;32mc:\\users\\saksham\\appdata\\local\\programs\\python\\python37-32\\lib\\site-packages\\web3\\utils\\formatters.py\u001b[0m in \u001b[0;36mmap_collection\u001b[1;34m(func, collection)\u001b[0m\n\u001b[0;32m    100\u001b[0m         \u001b[1;32mreturn\u001b[0m \u001b[0mcollection\u001b[0m\u001b[1;33m\u001b[0m\u001b[1;33m\u001b[0m\u001b[0m\n\u001b[0;32m    101\u001b[0m     \u001b[1;32melif\u001b[0m \u001b[0misinstance\u001b[0m\u001b[1;33m(\u001b[0m\u001b[0mcollection\u001b[0m\u001b[1;33m,\u001b[0m \u001b[0mIterable\u001b[0m\u001b[1;33m)\u001b[0m\u001b[1;33m:\u001b[0m\u001b[1;33m\u001b[0m\u001b[1;33m\u001b[0m\u001b[0m\n\u001b[1;32m--> 102\u001b[1;33m         \u001b[1;32mreturn\u001b[0m \u001b[0mdatatype\u001b[0m\u001b[1;33m(\u001b[0m\u001b[0mmap\u001b[0m\u001b[1;33m(\u001b[0m\u001b[0mfunc\u001b[0m\u001b[1;33m,\u001b[0m \u001b[0mcollection\u001b[0m\u001b[1;33m)\u001b[0m\u001b[1;33m)\u001b[0m\u001b[1;33m\u001b[0m\u001b[1;33m\u001b[0m\u001b[0m\n\u001b[0m\u001b[0;32m    103\u001b[0m     \u001b[1;32melse\u001b[0m\u001b[1;33m:\u001b[0m\u001b[1;33m\u001b[0m\u001b[1;33m\u001b[0m\u001b[0m\n\u001b[0;32m    104\u001b[0m         \u001b[1;32mreturn\u001b[0m \u001b[0mcollection\u001b[0m\u001b[1;33m\u001b[0m\u001b[1;33m\u001b[0m\u001b[0m\n",
      "\u001b[1;32mc:\\users\\saksham\\appdata\\local\\programs\\python\\python37-32\\lib\\site-packages\\web3\\utils\\formatters.py\u001b[0m in \u001b[0;36mrecurse\u001b[1;34m(item)\u001b[0m\n\u001b[0;32m    112\u001b[0m     '''\n\u001b[0;32m    113\u001b[0m     \u001b[1;32mdef\u001b[0m \u001b[0mrecurse\u001b[0m\u001b[1;33m(\u001b[0m\u001b[0mitem\u001b[0m\u001b[1;33m)\u001b[0m\u001b[1;33m:\u001b[0m\u001b[1;33m\u001b[0m\u001b[1;33m\u001b[0m\u001b[0m\n\u001b[1;32m--> 114\u001b[1;33m         \u001b[1;32mreturn\u001b[0m \u001b[0mrecursive_map\u001b[0m\u001b[1;33m(\u001b[0m\u001b[0mfunc\u001b[0m\u001b[1;33m,\u001b[0m \u001b[0mitem\u001b[0m\u001b[1;33m)\u001b[0m\u001b[1;33m\u001b[0m\u001b[1;33m\u001b[0m\u001b[0m\n\u001b[0m\u001b[0;32m    115\u001b[0m     \u001b[0mitems_mapped\u001b[0m \u001b[1;33m=\u001b[0m \u001b[0mmap_collection\u001b[0m\u001b[1;33m(\u001b[0m\u001b[0mrecurse\u001b[0m\u001b[1;33m,\u001b[0m \u001b[0mdata\u001b[0m\u001b[1;33m)\u001b[0m\u001b[1;33m\u001b[0m\u001b[1;33m\u001b[0m\u001b[0m\n\u001b[0;32m    116\u001b[0m     \u001b[1;32mreturn\u001b[0m \u001b[0mfunc\u001b[0m\u001b[1;33m(\u001b[0m\u001b[0mitems_mapped\u001b[0m\u001b[1;33m)\u001b[0m\u001b[1;33m\u001b[0m\u001b[1;33m\u001b[0m\u001b[0m\n",
      "\u001b[1;32mc:\\users\\saksham\\appdata\\local\\programs\\python\\python37-32\\lib\\site-packages\\web3\\utils\\decorators.py\u001b[0m in \u001b[0;36mwrapped\u001b[1;34m(*args)\u001b[0m\n\u001b[0;32m     33\u001b[0m         \u001b[0mto_wrap\u001b[0m\u001b[1;33m.\u001b[0m\u001b[0m__already_called\u001b[0m\u001b[1;33m[\u001b[0m\u001b[0mthread_local_args\u001b[0m\u001b[1;33m]\u001b[0m \u001b[1;33m=\u001b[0m \u001b[1;32mTrue\u001b[0m\u001b[1;33m\u001b[0m\u001b[1;33m\u001b[0m\u001b[0m\n\u001b[0;32m     34\u001b[0m         \u001b[1;32mtry\u001b[0m\u001b[1;33m:\u001b[0m\u001b[1;33m\u001b[0m\u001b[1;33m\u001b[0m\u001b[0m\n\u001b[1;32m---> 35\u001b[1;33m             \u001b[0mwrapped_val\u001b[0m \u001b[1;33m=\u001b[0m \u001b[0mto_wrap\u001b[0m\u001b[1;33m(\u001b[0m\u001b[1;33m*\u001b[0m\u001b[0margs\u001b[0m\u001b[1;33m)\u001b[0m\u001b[1;33m\u001b[0m\u001b[1;33m\u001b[0m\u001b[0m\n\u001b[0m\u001b[0;32m     36\u001b[0m         \u001b[1;32mfinally\u001b[0m\u001b[1;33m:\u001b[0m\u001b[1;33m\u001b[0m\u001b[1;33m\u001b[0m\u001b[0m\n\u001b[0;32m     37\u001b[0m             \u001b[1;32mdel\u001b[0m \u001b[0mto_wrap\u001b[0m\u001b[1;33m.\u001b[0m\u001b[0m__already_called\u001b[0m\u001b[1;33m[\u001b[0m\u001b[0mthread_local_args\u001b[0m\u001b[1;33m]\u001b[0m\u001b[1;33m\u001b[0m\u001b[1;33m\u001b[0m\u001b[0m\n",
      "\u001b[1;32mc:\\users\\saksham\\appdata\\local\\programs\\python\\python37-32\\lib\\site-packages\\web3\\utils\\formatters.py\u001b[0m in \u001b[0;36mrecursive_map\u001b[1;34m(func, data)\u001b[0m\n\u001b[0;32m    114\u001b[0m         \u001b[1;32mreturn\u001b[0m \u001b[0mrecursive_map\u001b[0m\u001b[1;33m(\u001b[0m\u001b[0mfunc\u001b[0m\u001b[1;33m,\u001b[0m \u001b[0mitem\u001b[0m\u001b[1;33m)\u001b[0m\u001b[1;33m\u001b[0m\u001b[1;33m\u001b[0m\u001b[0m\n\u001b[0;32m    115\u001b[0m     \u001b[0mitems_mapped\u001b[0m \u001b[1;33m=\u001b[0m \u001b[0mmap_collection\u001b[0m\u001b[1;33m(\u001b[0m\u001b[0mrecurse\u001b[0m\u001b[1;33m,\u001b[0m \u001b[0mdata\u001b[0m\u001b[1;33m)\u001b[0m\u001b[1;33m\u001b[0m\u001b[1;33m\u001b[0m\u001b[0m\n\u001b[1;32m--> 116\u001b[1;33m     \u001b[1;32mreturn\u001b[0m \u001b[0mfunc\u001b[0m\u001b[1;33m(\u001b[0m\u001b[0mitems_mapped\u001b[0m\u001b[1;33m)\u001b[0m\u001b[1;33m\u001b[0m\u001b[1;33m\u001b[0m\u001b[0m\n\u001b[0m\u001b[0;32m    117\u001b[0m \u001b[1;33m\u001b[0m\u001b[0m\n\u001b[0;32m    118\u001b[0m \u001b[1;33m\u001b[0m\u001b[0m\n",
      "\u001b[1;32mc:\\users\\saksham\\appdata\\local\\programs\\python\\python37-32\\lib\\site-packages\\web3\\utils\\abi.py\u001b[0m in \u001b[0;36mmap_to_typed_data\u001b[1;34m(elements)\u001b[0m\n\u001b[0;32m    469\u001b[0m     \u001b[1;32mdef\u001b[0m \u001b[0mmap_to_typed_data\u001b[0m\u001b[1;33m(\u001b[0m\u001b[0melements\u001b[0m\u001b[1;33m)\u001b[0m\u001b[1;33m:\u001b[0m\u001b[1;33m\u001b[0m\u001b[1;33m\u001b[0m\u001b[0m\n\u001b[0;32m    470\u001b[0m         \u001b[1;32mif\u001b[0m \u001b[0misinstance\u001b[0m\u001b[1;33m(\u001b[0m\u001b[0melements\u001b[0m\u001b[1;33m,\u001b[0m \u001b[0mABITypedData\u001b[0m\u001b[1;33m)\u001b[0m \u001b[1;32mand\u001b[0m \u001b[0melements\u001b[0m\u001b[1;33m.\u001b[0m\u001b[0mabi_type\u001b[0m \u001b[1;32mis\u001b[0m \u001b[1;32mnot\u001b[0m \u001b[1;32mNone\u001b[0m\u001b[1;33m:\u001b[0m\u001b[1;33m\u001b[0m\u001b[1;33m\u001b[0m\u001b[0m\n\u001b[1;32m--> 471\u001b[1;33m             \u001b[1;32mreturn\u001b[0m \u001b[0mABITypedData\u001b[0m\u001b[1;33m(\u001b[0m\u001b[0mfunc\u001b[0m\u001b[1;33m(\u001b[0m\u001b[1;33m*\u001b[0m\u001b[0melements\u001b[0m\u001b[1;33m)\u001b[0m\u001b[1;33m)\u001b[0m\u001b[1;33m\u001b[0m\u001b[1;33m\u001b[0m\u001b[0m\n\u001b[0m\u001b[0;32m    472\u001b[0m         \u001b[1;32melse\u001b[0m\u001b[1;33m:\u001b[0m\u001b[1;33m\u001b[0m\u001b[1;33m\u001b[0m\u001b[0m\n\u001b[0;32m    473\u001b[0m             \u001b[1;32mreturn\u001b[0m \u001b[0melements\u001b[0m\u001b[1;33m\u001b[0m\u001b[1;33m\u001b[0m\u001b[0m\n",
      "\u001b[1;32mc:\\users\\saksham\\appdata\\local\\programs\\python\\python37-32\\lib\\site-packages\\web3\\utils\\normalizers.py\u001b[0m in \u001b[0;36mwrapper\u001b[1;34m(abi_type, data)\u001b[0m\n\u001b[0;32m     48\u001b[0m     \u001b[1;33m@\u001b[0m\u001b[0mfunctools\u001b[0m\u001b[1;33m.\u001b[0m\u001b[0mwraps\u001b[0m\u001b[1;33m(\u001b[0m\u001b[0mto_wrap\u001b[0m\u001b[1;33m)\u001b[0m\u001b[1;33m\u001b[0m\u001b[1;33m\u001b[0m\u001b[0m\n\u001b[0;32m     49\u001b[0m     \u001b[1;32mdef\u001b[0m \u001b[0mwrapper\u001b[0m\u001b[1;33m(\u001b[0m\u001b[0mabi_type\u001b[0m\u001b[1;33m,\u001b[0m \u001b[0mdata\u001b[0m\u001b[1;33m)\u001b[0m\u001b[1;33m:\u001b[0m\u001b[1;33m\u001b[0m\u001b[1;33m\u001b[0m\u001b[0m\n\u001b[1;32m---> 50\u001b[1;33m         \u001b[0mmodified\u001b[0m \u001b[1;33m=\u001b[0m \u001b[0mto_wrap\u001b[0m\u001b[1;33m(\u001b[0m\u001b[0mabi_type\u001b[0m\u001b[1;33m,\u001b[0m \u001b[0mdata\u001b[0m\u001b[1;33m)\u001b[0m\u001b[1;33m\u001b[0m\u001b[1;33m\u001b[0m\u001b[0m\n\u001b[0m\u001b[0;32m     51\u001b[0m         \u001b[1;32mif\u001b[0m \u001b[0mmodified\u001b[0m \u001b[1;32mis\u001b[0m \u001b[1;32mNone\u001b[0m\u001b[1;33m:\u001b[0m\u001b[1;33m\u001b[0m\u001b[1;33m\u001b[0m\u001b[0m\n\u001b[0;32m     52\u001b[0m             \u001b[1;32mreturn\u001b[0m \u001b[0mabi_type\u001b[0m\u001b[1;33m,\u001b[0m \u001b[0mdata\u001b[0m\u001b[1;33m\u001b[0m\u001b[1;33m\u001b[0m\u001b[0m\n",
      "\u001b[1;32mc:\\users\\saksham\\appdata\\local\\programs\\python\\python37-32\\lib\\site-packages\\web3\\utils\\normalizers.py\u001b[0m in \u001b[0;36mabi_bytes_to_hex\u001b[1;34m(abi_type, data)\u001b[0m\n\u001b[0;32m     82\u001b[0m     \u001b[0mbase\u001b[0m\u001b[1;33m,\u001b[0m \u001b[0msub\u001b[0m\u001b[1;33m,\u001b[0m \u001b[0marrlist\u001b[0m \u001b[1;33m=\u001b[0m \u001b[0mprocess_type\u001b[0m\u001b[1;33m(\u001b[0m\u001b[0mabi_type\u001b[0m\u001b[1;33m)\u001b[0m\u001b[1;33m\u001b[0m\u001b[1;33m\u001b[0m\u001b[0m\n\u001b[0;32m     83\u001b[0m     \u001b[1;32mif\u001b[0m \u001b[0mbase\u001b[0m \u001b[1;33m==\u001b[0m \u001b[1;34m'bytes'\u001b[0m \u001b[1;32mand\u001b[0m \u001b[1;32mnot\u001b[0m \u001b[0marrlist\u001b[0m\u001b[1;33m:\u001b[0m\u001b[1;33m\u001b[0m\u001b[1;33m\u001b[0m\u001b[0m\n\u001b[1;32m---> 84\u001b[1;33m         \u001b[0mbytes_data\u001b[0m \u001b[1;33m=\u001b[0m \u001b[0mhexstr_if_str\u001b[0m\u001b[1;33m(\u001b[0m\u001b[0mto_bytes\u001b[0m\u001b[1;33m,\u001b[0m \u001b[0mdata\u001b[0m\u001b[1;33m)\u001b[0m\u001b[1;33m\u001b[0m\u001b[1;33m\u001b[0m\u001b[0m\n\u001b[0m\u001b[0;32m     85\u001b[0m         \u001b[1;32mif\u001b[0m \u001b[1;32mnot\u001b[0m \u001b[0msub\u001b[0m\u001b[1;33m:\u001b[0m\u001b[1;33m\u001b[0m\u001b[1;33m\u001b[0m\u001b[0m\n\u001b[0;32m     86\u001b[0m             \u001b[1;32mreturn\u001b[0m \u001b[0mabi_type\u001b[0m\u001b[1;33m,\u001b[0m \u001b[0mto_hex\u001b[0m\u001b[1;33m(\u001b[0m\u001b[0mbytes_data\u001b[0m\u001b[1;33m)\u001b[0m\u001b[1;33m\u001b[0m\u001b[1;33m\u001b[0m\u001b[0m\n",
      "\u001b[1;32mfunctoolz.pyx\u001b[0m in \u001b[0;36mcytoolz.functoolz.curry.__call__\u001b[1;34m()\u001b[0m\n",
      "\u001b[1;32mfunctoolz.pyx\u001b[0m in \u001b[0;36mcytoolz.functoolz.curry.__call__\u001b[1;34m()\u001b[0m\n",
      "\u001b[1;32mc:\\users\\saksham\\appdata\\local\\programs\\python\\python37-32\\lib\\site-packages\\web3\\utils\\encoding.py\u001b[0m in \u001b[0;36mhexstr_if_str\u001b[1;34m(to_type, hexstr_or_primitive)\u001b[0m\n\u001b[0;32m    211\u001b[0m     \u001b[1;32melse\u001b[0m\u001b[1;33m:\u001b[0m\u001b[1;33m\u001b[0m\u001b[1;33m\u001b[0m\u001b[0m\n\u001b[0;32m    212\u001b[0m         \u001b[1;33m(\u001b[0m\u001b[0mprimitive\u001b[0m\u001b[1;33m,\u001b[0m \u001b[0mhexstr\u001b[0m\u001b[1;33m)\u001b[0m \u001b[1;33m=\u001b[0m \u001b[1;33m(\u001b[0m\u001b[0mhexstr_or_primitive\u001b[0m\u001b[1;33m,\u001b[0m \u001b[1;32mNone\u001b[0m\u001b[1;33m)\u001b[0m\u001b[1;33m\u001b[0m\u001b[1;33m\u001b[0m\u001b[0m\n\u001b[1;32m--> 213\u001b[1;33m     \u001b[1;32mreturn\u001b[0m \u001b[0mto_type\u001b[0m\u001b[1;33m(\u001b[0m\u001b[0mprimitive\u001b[0m\u001b[1;33m,\u001b[0m \u001b[0mhexstr\u001b[0m\u001b[1;33m=\u001b[0m\u001b[0mhexstr\u001b[0m\u001b[1;33m)\u001b[0m\u001b[1;33m\u001b[0m\u001b[1;33m\u001b[0m\u001b[0m\n\u001b[0m\u001b[0;32m    214\u001b[0m \u001b[1;33m\u001b[0m\u001b[0m\n\u001b[0;32m    215\u001b[0m \u001b[1;33m\u001b[0m\u001b[0m\n",
      "\u001b[1;32mc:\\users\\saksham\\appdata\\local\\programs\\python\\python37-32\\lib\\site-packages\\web3\\utils\\encoding.py\u001b[0m in \u001b[0;36mto_bytes\u001b[1;34m(primitive, hexstr, text)\u001b[0m\n\u001b[0;32m    156\u001b[0m     \u001b[1;32melif\u001b[0m \u001b[0mtext\u001b[0m \u001b[1;32mis\u001b[0m \u001b[1;32mnot\u001b[0m \u001b[1;32mNone\u001b[0m\u001b[1;33m:\u001b[0m\u001b[1;33m\u001b[0m\u001b[1;33m\u001b[0m\u001b[0m\n\u001b[0;32m    157\u001b[0m         \u001b[1;32mreturn\u001b[0m \u001b[0mtext\u001b[0m\u001b[1;33m.\u001b[0m\u001b[0mencode\u001b[0m\u001b[1;33m(\u001b[0m\u001b[1;34m'utf-8'\u001b[0m\u001b[1;33m)\u001b[0m\u001b[1;33m\u001b[0m\u001b[1;33m\u001b[0m\u001b[0m\n\u001b[1;32m--> 158\u001b[1;33m     \u001b[1;32mraise\u001b[0m \u001b[0mTypeError\u001b[0m\u001b[1;33m(\u001b[0m\u001b[1;34m\"expected an int in first arg, or keyword of hexstr or text\"\u001b[0m\u001b[1;33m)\u001b[0m\u001b[1;33m\u001b[0m\u001b[1;33m\u001b[0m\u001b[0m\n\u001b[0m\u001b[0;32m    159\u001b[0m \u001b[1;33m\u001b[0m\u001b[0m\n\u001b[0;32m    160\u001b[0m \u001b[1;33m\u001b[0m\u001b[0m\n",
      "\u001b[1;31mTypeError\u001b[0m: expected an int in first arg, or keyword of hexstr or text"
     ]
    }
   ],
   "source": [
    "w3.eth.getTransaction(thash)"
   ]
  },
  {
   "cell_type": "code",
   "execution_count": 49,
   "metadata": {},
   "outputs": [
    {
     "data": {
      "text/plain": [
       "AttributeDict({'transactionHash': HexBytes('0x5036a69de91841a3c2e4f6479a59fb4567775ed6bb738d09e9eacb9631f9086b'),\n",
       " 'transactionIndex': 0,\n",
       " 'blockHash': HexBytes('0x183a7bd629c5ddd1e1edac2dbf06f4b0d498795c6aaacb7b0917057571a65976'),\n",
       " 'blockNumber': 6,\n",
       " 'gasUsed': 85716,\n",
       " 'cumulativeGasUsed': 85716,\n",
       " 'contractAddress': None,\n",
       " 'logs': [],\n",
       " 'status': 1,\n",
       " 'logsBloom': HexBytes('0x00000000000000000000000000000000000000000000000000000000000000000000000000000000000000000000000000000000000000000000000000000000000000000000000000000000000000000000000000000000000000000000000000000000000000000000000000000000000000000000000000000000000000000000000000000000000000000000000000000000000000000000000000000000000000000000000000000000000000000000000000000000000000000000000000000000000000000000000000000000000000000000000000000000000000000000000000000000000000000000000000000000000000000000000000000000')})"
      ]
     },
     "execution_count": 49,
     "metadata": {},
     "output_type": "execute_result"
    }
   ],
   "source": [
    "w3.eth.getTransactionReceipt(thash)"
   ]
  },
  {
   "cell_type": "code",
   "execution_count": 26,
   "metadata": {},
   "outputs": [
    {
     "data": {
      "text/plain": [
       "[3, 3]"
      ]
     },
     "execution_count": 26,
     "metadata": {},
     "output_type": "execute_result"
    }
   ],
   "source": [
    "result = this.get_counts().call()\n",
    "result"
   ]
  },
  {
   "cell_type": "code",
   "execution_count": 55,
   "metadata": {},
   "outputs": [],
   "source": [
    "a=this.list(sa).call()"
   ]
  },
  {
   "cell_type": "code",
   "execution_count": 56,
   "metadata": {},
   "outputs": [
    {
     "ename": "AttributeError",
     "evalue": "'int' object has no attribute 'count'",
     "output_type": "error",
     "traceback": [
      "\u001b[1;31m---------------------------------------------------------------------------\u001b[0m",
      "\u001b[1;31mAttributeError\u001b[0m                            Traceback (most recent call last)",
      "\u001b[1;32m<ipython-input-56-b5df6ae39e83>\u001b[0m in \u001b[0;36m<module>\u001b[1;34m\u001b[0m\n\u001b[1;32m----> 1\u001b[1;33m \u001b[0ma\u001b[0m\u001b[1;33m.\u001b[0m\u001b[0mcount\u001b[0m\u001b[1;33m\u001b[0m\u001b[1;33m\u001b[0m\u001b[0m\n\u001b[0m",
      "\u001b[1;31mAttributeError\u001b[0m: 'int' object has no attribute 'count'"
     ]
    }
   ],
   "source": [
    "a.count "
   ]
  },
  {
   "cell_type": "code",
   "execution_count": 58,
   "metadata": {},
   "outputs": [],
   "source": [
    "import os"
   ]
  },
  {
   "cell_type": "code",
   "execution_count": 65,
   "metadata": {},
   "outputs": [
    {
     "data": {
      "text/plain": [
       "<function ntpath.dirname(p)>"
      ]
     },
     "execution_count": 65,
     "metadata": {},
     "output_type": "execute_result"
    }
   ],
   "source": [
    "os.path.dirname()"
   ]
  },
  {
   "cell_type": "code",
   "execution_count": 86,
   "metadata": {},
   "outputs": [],
   "source": [
    "users = {\n",
    "\t'issuer1' : {'password':'admin1','address': Web3.toChecksumAddress('0xb86f8a2f8a006801c8cfe64aeb1ea6c09e30a4fa'),'name':'Issuer 1','role':'issuer'},\n",
    "\t'issuer2' : {'password':'admin2','address': Web3.toChecksumAddress('0x36808b42b1a78edef2c3a8866ca87f46448b1e93'),'name':'Issuer 2','role':'issuer'},\n",
    "\t'user1' : {'password':'qwerty1','address': Web3.toChecksumAddress('0x95c27118a7c2f528b5c92f6d2f585e21b2a94cd7'),'name':'User 1','role':'user'},\n",
    "\t'user2' : {'password':'qwerty2','address': Web3.toChecksumAddress('0xe111a36e96b82228e851677213a74cb63b31b136'),'name':'User 2','role':'user'},\n",
    "}"
   ]
  },
  {
   "cell_type": "code",
   "execution_count": 87,
   "metadata": {},
   "outputs": [
    {
     "data": {
      "text/plain": [
       "True"
      ]
     },
     "execution_count": 87,
     "metadata": {},
     "output_type": "execute_result"
    }
   ],
   "source": [
    "'user1' in users"
   ]
  },
  {
   "cell_type": "code",
   "execution_count": 88,
   "metadata": {},
   "outputs": [
    {
     "data": {
      "text/plain": [
       "{'password': 'qwerty1',\n",
       " 'address': '0x95c27118a7C2F528b5C92F6d2f585e21B2A94cd7',\n",
       " 'name': 'User 1',\n",
       " 'role': 'user'}"
      ]
     },
     "execution_count": 88,
     "metadata": {},
     "output_type": "execute_result"
    }
   ],
   "source": [
    "a=users['user1']\n",
    "a"
   ]
  },
  {
   "cell_type": "code",
   "execution_count": 90,
   "metadata": {},
   "outputs": [
    {
     "data": {
      "text/plain": [
       "str"
      ]
     },
     "execution_count": 90,
     "metadata": {},
     "output_type": "execute_result"
    }
   ],
   "source": [
    "a['address']\n",
    "type(a['address'])"
   ]
  }
 ],
 "metadata": {
  "kernelspec": {
   "display_name": "Python 3",
   "language": "python",
   "name": "python3"
  },
  "language_info": {
   "codemirror_mode": {
    "name": "ipython",
    "version": 3
   },
   "file_extension": ".py",
   "mimetype": "text/x-python",
   "name": "python",
   "nbconvert_exporter": "python",
   "pygments_lexer": "ipython3",
   "version": "3.7.1"
  }
 },
 "nbformat": 4,
 "nbformat_minor": 2
}
